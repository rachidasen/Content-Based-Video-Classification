{
 "cells": [
  {
   "cell_type": "code",
   "execution_count": 6,
   "metadata": {
    "collapsed": false
   },
   "outputs": [],
   "source": [
    "import cPickle as pickle\n",
    "import os\n",
    "import numpy as np\n",
    "\n",
    "import matplotlib.pyplot as plt\n",
    "import matplotlib.cm as cm\n",
    "import lasagne\n",
    "from lasagne import layers\n",
    "from lasagne.updates import nesterov_momentum\n",
    "from nolearn.lasagne import NeuralNet\n",
    "from nolearn.lasagne import visualize\n",
    "from sklearn.metrics import confusion_matrix, classification_report, accuracy_score\n",
    "\n",
    "%matplotlib inline"
   ]
  },
  {
   "cell_type": "code",
   "execution_count": 7,
   "metadata": {
    "collapsed": true
   },
   "outputs": [],
   "source": [
    "def load_chunk(path,chunk):\n",
    "    data=bob.io.base.HDF5File(chunk)\n",
    "    X_train=data.read('frames')\n",
    "    del data\n",
    "    data=open(chunk,'r')\n",
    "    y_train=pickle.load(data)\n",
    "    data.close()\n",
    "    return X_train,y_train\n",
    "\n",
    "def load_data(path):\n",
    "    x_train = np.zeros((50000, 3, 32, 32), dtype='uint8')\n",
    "    y_train = np.zeros((50000,), dtype=\"uint8\")\n",
    "\n",
    "    for i in range(1, 6):\n",
    "        data = unpickle(os.path.join(path, 'data_batch_' + str(i)))\n",
    "        images = data['data'].reshape(10000, 3, 32, 32)\n",
    "        labels = data['labels']\n",
    "        x_train[(i - 1) * 10000:i * 10000, :, :, :] = images\n",
    "        y_train[(i - 1) * 10000:i * 10000] = labels\n",
    "\n",
    "    test_data = unpickle(os.path.join(path, 'test_batch'))\n",
    "    x_test = test_data['data'].reshape(10000, 3, 32, 32)\n",
    "    y_test = np.array(test_data['labels'])\n",
    "\n",
    "    return x_train, y_train, x_test, y_test\n",
    "\n",
    "def unpickle(file):\n",
    "    f = open(file, 'rb')\n",
    "    dict = pickle.load(f)\n",
    "    f.close()\n",
    "    return dict\n",
    "\n",
    "\n",
    "net = NeuralNet(\n",
    "    layers=[('input', layers.InputLayer),\n",
    "            ('conv2d1', layers.Conv2DLayer),\n",
    "            ('maxpool1', layers.MaxPool2DLayer),\n",
    "            ('conv2d2', layers.Conv2DLayer),\n",
    "            ('maxpool2', layers.MaxPool2DLayer),\n",
    "            ('dense', layers.DenseLayer),\n",
    "            ('output', layers.DenseLayer),\n",
    "            ],\n",
    "    input_shape=(None, 3, 32, 32),\n",
    "    conv2d1_num_filters=20,\n",
    "    conv2d1_filter_size=(5, 5),\n",
    "    conv2d1_stride=(1, 1),\n",
    "    conv2d1_pad=(2, 2),\n",
    "    conv2d1_nonlinearity=lasagne.nonlinearities.rectify,\n",
    "    maxpool1_pool_size=(2, 2),\n",
    "    conv2d2_num_filters=20,\n",
    "    conv2d2_filter_size=(5, 5),\n",
    "    conv2d2_stride=(1, 1),\n",
    "    conv2d2_pad=(2, 2),\n",
    "    conv2d2_nonlinearity=lasagne.nonlinearities.rectify,\n",
    "    maxpool2_pool_size=(2, 2),\n",
    "    dense_num_units=1000,\n",
    "    dense_nonlinearity=lasagne.nonlinearities.rectify,\n",
    "    output_nonlinearity=lasagne.nonlinearities.softmax,\n",
    "    output_num_units=10,\n",
    "    update=nesterov_momentum,\n",
    "    update_momentum=0.9,\n",
    "    update_learning_rate=0.0001,\n",
    "    max_epochs=100,\n",
    "    verbose=True\n",
    ")"
   ]
  },
  {
   "cell_type": "code",
   "execution_count": null,
   "metadata": {
    "collapsed": true
   },
   "outputs": [],
   "source": []
  }
 ],
 "metadata": {
  "kernelspec": {
   "display_name": "Python 2",
   "language": "python",
   "name": "python2"
  },
  "language_info": {
   "codemirror_mode": {
    "name": "ipython",
    "version": 2
   },
   "file_extension": ".py",
   "mimetype": "text/x-python",
   "name": "python",
   "nbconvert_exporter": "python",
   "pygments_lexer": "ipython2",
   "version": "2.7.6"
  }
 },
 "nbformat": 4,
 "nbformat_minor": 0
}
